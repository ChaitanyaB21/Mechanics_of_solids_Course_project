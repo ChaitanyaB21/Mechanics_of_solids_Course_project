{
  "nbformat": 4,
  "nbformat_minor": 0,
  "metadata": {
    "colab": {
      "provenance": []
    },
    "kernelspec": {
      "name": "python3",
      "display_name": "Python 3"
    },
    "language_info": {
      "name": "python"
    }
  },
  "cells": [
    {
      "cell_type": "code",
      "execution_count": null,
      "metadata": {
        "id": "jEcCsU-K924s"
      },
      "outputs": [],
      "source": [
        "import pandas as pd\n",
        "df = pd.read_csv(\"/content/MOS_material_sheet.csv\")"
      ]
    },
    {
      "cell_type": "code",
      "source": [
        "# Enter Material Id\n",
        "\n",
        "srNoArr = []\n",
        "for i in range(0,10):\n",
        "    srNo = int(input(f\"Enter the Material id of {i + 1}th element: \")) - 1\n",
        "    srNoArr.append(srNo)\n"
      ],
      "metadata": {
        "colab": {
          "base_uri": "https://localhost:8080/"
        },
        "id": "ujpQQ7T4BOoY",
        "outputId": "6fd8610c-d60b-4872-a092-6b1db168ea10"
      },
      "execution_count": null,
      "outputs": [
        {
          "name": "stdout",
          "output_type": "stream",
          "text": [
            "Enter the Material id of 1th element: 1\n",
            "Enter the Material id of 2th element: 2\n",
            "Enter the Material id of 3th element: 3\n",
            "Enter the Material id of 4th element: 4\n",
            "Enter the Material id of 5th element: 5\n",
            "Enter the Material id of 6th element: 6\n",
            "Enter the Material id of 7th element: 7\n",
            "Enter the Material id of 8th element: 8\n",
            "Enter the Material id of 9th element: 9\n",
            "Enter the Material id of 10th element: 10\n"
          ]
        }
      ]
    },
    {
      "cell_type": "code",
      "source": [
        "df_new = df.iloc[srNoArr]\n",
        "df_new[\"Width\"] = [20]*10\n",
        "df_new[\"Height\"] = [0.04]*10\n",
        "df_new[\"Area\"] =  df_new[\"Width\"] * df_new[\"Height\"]\n"
      ],
      "metadata": {
        "colab": {
          "base_uri": "https://localhost:8080/"
        },
        "id": "emV2aPzHNKgb",
        "outputId": "37dc2a96-687d-43d9-d088-d3cad6103b36"
      },
      "execution_count": null,
      "outputs": [
        {
          "output_type": "stream",
          "name": "stderr",
          "text": [
            "<ipython-input-239-fc636f297c0a>:2: SettingWithCopyWarning: \n",
            "A value is trying to be set on a copy of a slice from a DataFrame.\n",
            "Try using .loc[row_indexer,col_indexer] = value instead\n",
            "\n",
            "See the caveats in the documentation: https://pandas.pydata.org/pandas-docs/stable/user_guide/indexing.html#returning-a-view-versus-a-copy\n",
            "  df_new[\"Width\"] = [20]*10\n",
            "<ipython-input-239-fc636f297c0a>:3: SettingWithCopyWarning: \n",
            "A value is trying to be set on a copy of a slice from a DataFrame.\n",
            "Try using .loc[row_indexer,col_indexer] = value instead\n",
            "\n",
            "See the caveats in the documentation: https://pandas.pydata.org/pandas-docs/stable/user_guide/indexing.html#returning-a-view-versus-a-copy\n",
            "  df_new[\"Height\"] = [0.04]*10\n",
            "<ipython-input-239-fc636f297c0a>:4: SettingWithCopyWarning: \n",
            "A value is trying to be set on a copy of a slice from a DataFrame.\n",
            "Try using .loc[row_indexer,col_indexer] = value instead\n",
            "\n",
            "See the caveats in the documentation: https://pandas.pydata.org/pandas-docs/stable/user_guide/indexing.html#returning-a-view-versus-a-copy\n",
            "  df_new[\"Area\"] =  df_new[\"Width\"] * df_new[\"Height\"]\n"
          ]
        }
      ]
    },
    {
      "cell_type": "code",
      "source": [
        "# -----------------------Modular Ratio-----------------------------------\n",
        "\n",
        "df_new[\"Modular Ratio\"] = df_new[\"Elastic Modulus\"]/(df_new[\"Elastic Modulus\"].values)[9] \n"
      ],
      "metadata": {
        "colab": {
          "base_uri": "https://localhost:8080/"
        },
        "id": "FzL8HiQXXNrz",
        "outputId": "e0cd29e2-0a79-41a9-d234-38ae2ba9068f"
      },
      "execution_count": null,
      "outputs": [
        {
          "output_type": "stream",
          "name": "stderr",
          "text": [
            "<ipython-input-240-c9c0f71f1dfd>:3: SettingWithCopyWarning: \n",
            "A value is trying to be set on a copy of a slice from a DataFrame.\n",
            "Try using .loc[row_indexer,col_indexer] = value instead\n",
            "\n",
            "See the caveats in the documentation: https://pandas.pydata.org/pandas-docs/stable/user_guide/indexing.html#returning-a-view-versus-a-copy\n",
            "  df_new[\"Modular Ratio\"] = df_new[\"Elastic Modulus\"]/(df_new[\"Elastic Modulus\"].values)[9]\n"
          ]
        }
      ]
    },
    {
      "cell_type": "code",
      "source": [
        "# ---------------------------Centroid of individual Material---------------------------------\n",
        "\n",
        "cent = []\n",
        "for i in range(1, 11):\n",
        "  cent.append(0.4 - (2*i - 1)*0.02)\n",
        "\n",
        "df_new[\"centroid\"] = cent\n"
      ],
      "metadata": {
        "colab": {
          "base_uri": "https://localhost:8080/"
        },
        "id": "akwfCNuFI3Ig",
        "outputId": "7bd070ca-52a9-4d34-e3e9-1fa2a0997967"
      },
      "execution_count": null,
      "outputs": [
        {
          "output_type": "stream",
          "name": "stderr",
          "text": [
            "<ipython-input-241-7ca1ffb986b0>:7: SettingWithCopyWarning: \n",
            "A value is trying to be set on a copy of a slice from a DataFrame.\n",
            "Try using .loc[row_indexer,col_indexer] = value instead\n",
            "\n",
            "See the caveats in the documentation: https://pandas.pydata.org/pandas-docs/stable/user_guide/indexing.html#returning-a-view-versus-a-copy\n",
            "  df_new[\"centroid\"] = cent\n"
          ]
        }
      ]
    },
    {
      "cell_type": "code",
      "source": [
        "# ------------------------------Centriod of composite material------------------------------\n",
        "\n",
        "cent = 0\n",
        "sumArea = 0\n",
        "for i in range(0,10):\n",
        "  modRatio = df_new['Modular Ratio'].values\n",
        "  area = df_new['Area'].values\n",
        "  centroid = df_new['centroid'].values\n",
        "  cent = cent + (area[i])*(modRatio[i])*(centroid[i])\n",
        "  sumArea = sumArea + (area[i])*(modRatio[i])\n",
        "\n",
        "composite_centroid = cent / sumArea\n",
        "print(composite_centroid)"
      ],
      "metadata": {
        "colab": {
          "base_uri": "https://localhost:8080/"
        },
        "id": "pMxSdB7CvP0h",
        "outputId": "d92e8488-c705-45e0-f670-2b7c1256a7c8"
      },
      "execution_count": null,
      "outputs": [
        {
          "output_type": "stream",
          "name": "stdout",
          "text": [
            "0.18166666666666667\n"
          ]
        }
      ]
    },
    {
      "cell_type": "code",
      "source": [
        "# ----------Distance between centroid of individual material and composite centroid------------------------------\n",
        "\n",
        "centDist = []\n",
        "for i in range(1, 11):\n",
        "    centDist.append(0.4 - composite_centroid - 0.02 * (2*i - 1))\n",
        "\n",
        "df_new[\"Centroidal Distance\"] = centDist\n",
        "# df_new"
      ],
      "metadata": {
        "colab": {
          "base_uri": "https://localhost:8080/"
        },
        "id": "hjWhOrtk1CpE",
        "outputId": "6e2e4ab1-4a35-4d31-b343-bdf487434a1b"
      },
      "execution_count": null,
      "outputs": [
        {
          "output_type": "stream",
          "name": "stderr",
          "text": [
            "<ipython-input-243-f9e2229e2a75>:7: SettingWithCopyWarning: \n",
            "A value is trying to be set on a copy of a slice from a DataFrame.\n",
            "Try using .loc[row_indexer,col_indexer] = value instead\n",
            "\n",
            "See the caveats in the documentation: https://pandas.pydata.org/pandas-docs/stable/user_guide/indexing.html#returning-a-view-versus-a-copy\n",
            "  df_new[\"Centroidal Distance\"] = centDist\n"
          ]
        }
      ]
    },
    {
      "cell_type": "code",
      "source": [
        "# --------------------------Moment of Inertia of the material --------------------------\n",
        "\n",
        "moment_of_inertia = []\n",
        "sumMOI = 0  \n",
        "\n",
        "for i in range(0,10):\n",
        "  moment_of_inertia.append(modRatio[i]*20*(0.04**3)/12 + modRatio[i]*20*0.04*(centDist[i])**2)\n",
        "  sumMOI = sumMOI + moment_of_inertia[i]  # Sum of MOI ------------------------------------------------------------------------\n",
        "\n",
        "df_new[\"MOI\"] = moment_of_inertia  \n"
      ],
      "metadata": {
        "colab": {
          "base_uri": "https://localhost:8080/"
        },
        "id": "oEhmxLCw26Ia",
        "outputId": "f8b0dc6f-1b85-472e-d843-89248f0fe8fa"
      },
      "execution_count": null,
      "outputs": [
        {
          "output_type": "stream",
          "name": "stderr",
          "text": [
            "<ipython-input-244-25245b7e78c0>:10: SettingWithCopyWarning: \n",
            "A value is trying to be set on a copy of a slice from a DataFrame.\n",
            "Try using .loc[row_indexer,col_indexer] = value instead\n",
            "\n",
            "See the caveats in the documentation: https://pandas.pydata.org/pandas-docs/stable/user_guide/indexing.html#returning-a-view-versus-a-copy\n",
            "  df_new[\"MOI\"] = moment_of_inertia\n"
          ]
        }
      ]
    },
    {
      "cell_type": "code",
      "source": [
        "df_new[\"Mass\"] = df_new[\"Density\"] * df_new[\"Area\"] * 0.2\n",
        "massSum = 0\n",
        "for x in df_new[\"Mass\"].values :\n",
        "  massSum = massSum + x\n",
        "\n",
        "#---------------------------------------------Mass Distribution ----------------------------------------------------------\n",
        "massDistribution = massSum / 20      \n"
      ],
      "metadata": {
        "colab": {
          "base_uri": "https://localhost:8080/"
        },
        "id": "prNPBuLT7YWN",
        "outputId": "f644e911-0e26-469d-e46c-bbdc7b178ee5"
      },
      "execution_count": null,
      "outputs": [
        {
          "output_type": "stream",
          "name": "stderr",
          "text": [
            "<ipython-input-245-4fab4ec5feea>:1: SettingWithCopyWarning: \n",
            "A value is trying to be set on a copy of a slice from a DataFrame.\n",
            "Try using .loc[row_indexer,col_indexer] = value instead\n",
            "\n",
            "See the caveats in the documentation: https://pandas.pydata.org/pandas-docs/stable/user_guide/indexing.html#returning-a-view-versus-a-copy\n",
            "  df_new[\"Mass\"] = df_new[\"Density\"] * df_new[\"Area\"] * 0.2\n"
          ]
        }
      ]
    },
    {
      "cell_type": "code",
      "source": [
        "#------------------------------------------------ Radius_of_curvature -------------------------------------------------\n",
        "radius_of_curvature = (10000 * 10 - massDistribution * 5 * 2.5) / (sumMOI * df_new[\"Elastic Modulus\"].values[9] * (10**9))\n",
        "\n",
        "print(radius_of_curvature)"
      ],
      "metadata": {
        "colab": {
          "base_uri": "https://localhost:8080/"
        },
        "id": "S7sUMEAHS_sz",
        "outputId": "410145bf-b87e-486f-dca0-75c6945021bf"
      },
      "execution_count": null,
      "outputs": [
        {
          "output_type": "stream",
          "name": "stdout",
          "text": [
            "2.6554659115195545e-05\n"
          ]
        }
      ]
    },
    {
      "cell_type": "code",
      "source": [
        "#--------------------------------------- Calculationg critical stresses -----------------------------------------\n",
        "\n",
        "df_new[\"Stress(Top) Mpa\"] = -((df_new[\"Centroidal Distance\"] + 0.02) * radius_of_curvature)* df_new[\"Elastic Modulus\"] * (10)**3\n",
        "df_new[\"Stress(bottom) Mpa\"] = -((df_new[\"Centroidal Distance\"] - 0.02) * radius_of_curvature)* df_new[\"Elastic Modulus\"] * (10)**3\n",
        "# df_new"
      ],
      "metadata": {
        "colab": {
          "base_uri": "https://localhost:8080/"
        },
        "id": "yGkYClnaWetw",
        "outputId": "097fbdd5-19a7-4be9-86c7-b1a41159fbe8"
      },
      "execution_count": null,
      "outputs": [
        {
          "output_type": "stream",
          "name": "stderr",
          "text": [
            "<ipython-input-247-e1d537a6baaf>:1: SettingWithCopyWarning: \n",
            "A value is trying to be set on a copy of a slice from a DataFrame.\n",
            "Try using .loc[row_indexer,col_indexer] = value instead\n",
            "\n",
            "See the caveats in the documentation: https://pandas.pydata.org/pandas-docs/stable/user_guide/indexing.html#returning-a-view-versus-a-copy\n",
            "  df_new[\"Stress(Top) Mpa\"] = -((df_new[\"Centroidal Distance\"] + 0.02) * radius_of_curvature)* df_new[\"Elastic Modulus\"] * (10)**3\n",
            "<ipython-input-247-e1d537a6baaf>:2: SettingWithCopyWarning: \n",
            "A value is trying to be set on a copy of a slice from a DataFrame.\n",
            "Try using .loc[row_indexer,col_indexer] = value instead\n",
            "\n",
            "See the caveats in the documentation: https://pandas.pydata.org/pandas-docs/stable/user_guide/indexing.html#returning-a-view-versus-a-copy\n",
            "  df_new[\"Stress(bottom) Mpa\"] = -((df_new[\"Centroidal Distance\"] - 0.02) * radius_of_curvature)* df_new[\"Elastic Modulus\"] * (10)**3\n"
          ]
        }
      ]
    },
    {
      "cell_type": "code",
      "source": [
        "yield_stress_calculates = []\n",
        "\n",
        "for i in range(0,10):\n",
        "  top_stress = df_new.iloc[i][\"Stress(Top) Mpa\"]\n",
        "  bottom_stress = df_new.iloc[i][\"Stress(bottom) Mpa\"]\n",
        "  \n",
        "  if(abs(top_stress) >= abs(bottom_stress)):\n",
        "    yield_stress_calculates.append(top_stress)\n",
        "  else:\n",
        "    yield_stress_calculates.append(bottom_stress)\n",
        "\n",
        "df_new[\"Calculated Yield Stress\"] = yield_stress_calculates\n",
        "# df_new"
      ],
      "metadata": {
        "colab": {
          "base_uri": "https://localhost:8080/"
        },
        "id": "LqOiLjTrYjb3",
        "outputId": "c372c690-39e3-40a1-cd05-1165e6407605"
      },
      "execution_count": null,
      "outputs": [
        {
          "output_type": "stream",
          "name": "stderr",
          "text": [
            "<ipython-input-248-e6e0ccd0ec2f>:12: SettingWithCopyWarning: \n",
            "A value is trying to be set on a copy of a slice from a DataFrame.\n",
            "Try using .loc[row_indexer,col_indexer] = value instead\n",
            "\n",
            "See the caveats in the documentation: https://pandas.pydata.org/pandas-docs/stable/user_guide/indexing.html#returning-a-view-versus-a-copy\n",
            "  df_new[\"Calculated Yield Stress\"] = yield_stress_calculates\n"
          ]
        }
      ]
    },
    {
      "cell_type": "code",
      "source": [
        "can_material_withstrand = []\n",
        "for i in range(0,10):\n",
        "  given_stress = df_new.iloc[i][\"Yield Strength (MPa)\"]\n",
        "  calculated_stress = df_new.iloc[i][\"Calculated Yield Stress\"]\n",
        "\n",
        "  if(abs(calculated_stress) >= given_stress ):\n",
        "    can_material_withstrand.append(\"No\")\n",
        "  else:\n",
        "    can_material_withstrand.append(\"Yes\")\n",
        "\n",
        "df_new[\"Can material withstand\"] = can_material_withstrand\n",
        "df_new\n"
      ],
      "metadata": {
        "colab": {
          "base_uri": "https://localhost:8080/",
          "height": 565
        },
        "id": "JNqR_6hlbOFe",
        "outputId": "e67d636c-4215-44d0-b794-62f52c285a2f"
      },
      "execution_count": null,
      "outputs": [
        {
          "output_type": "stream",
          "name": "stderr",
          "text": [
            "<ipython-input-249-7fef1d7a7c40>:11: SettingWithCopyWarning: \n",
            "A value is trying to be set on a copy of a slice from a DataFrame.\n",
            "Try using .loc[row_indexer,col_indexer] = value instead\n",
            "\n",
            "See the caveats in the documentation: https://pandas.pydata.org/pandas-docs/stable/user_guide/indexing.html#returning-a-view-versus-a-copy\n",
            "  df_new[\"Can material withstand\"] = can_material_withstrand\n"
          ]
        },
        {
          "output_type": "execute_result",
          "data": {
            "text/plain": [
              "   Material Id  Elastic Modulus  Yield Strength (MPa)  Density  Price  Width  \\\n",
              "0            1               27                     5      500     50     20   \n",
              "1            2               29                     6      520     55     20   \n",
              "2            3               31                     6      550     60     20   \n",
              "3            4               33                     7      400     65     20   \n",
              "4            5               35                     7      650     70     20   \n",
              "5            6               37                     8      660     75     20   \n",
              "6            7               39                     8      670     80     20   \n",
              "7            8               41                     9      680     85     20   \n",
              "8            9               43                     9      690     90     20   \n",
              "9           10               45                    10      686     95     20   \n",
              "\n",
              "   Height  Area  Modular Ratio  centroid  Centroidal Distance       MOI  \\\n",
              "0    0.04   0.8       0.600000      0.38             0.198333  0.018945   \n",
              "1    0.04   0.8       0.644444      0.34             0.158333  0.012993   \n",
              "2    0.04   0.8       0.688889      0.30             0.118333  0.007791   \n",
              "3    0.04   0.8       0.733333      0.26             0.078333  0.003678   \n",
              "4    0.04   0.8       0.777778      0.22             0.038333  0.000997   \n",
              "5    0.04   0.8       0.822222      0.18            -0.001667  0.000090   \n",
              "6    0.04   0.8       0.866667      0.14            -0.041667  0.001296   \n",
              "7    0.04   0.8       0.911111      0.10            -0.081667  0.004958   \n",
              "8    0.04   0.8       0.955556      0.06            -0.121667  0.011418   \n",
              "9    0.04   0.8       1.000000      0.02            -0.161667  0.021016   \n",
              "\n",
              "     Mass  Stress(Top) Mpa  Stress(bottom) Mpa  Calculated Yield Stress  \\\n",
              "0   80.00        -0.156540           -0.127861                -0.156540   \n",
              "1   83.20        -0.137332           -0.106528                -0.137332   \n",
              "2   88.00        -0.113875           -0.080947                -0.113875   \n",
              "3   64.00        -0.086170           -0.051118                -0.086170   \n",
              "4  104.00        -0.054216           -0.017039                -0.054216   \n",
              "5  105.60        -0.018013            0.021288                 0.021288   \n",
              "6  107.20         0.022439            0.063864                 0.063864   \n",
              "7  108.80         0.067139            0.110689                 0.110689   \n",
              "8  110.40         0.116088            0.161762                 0.161762   \n",
              "9  109.76         0.169286            0.217084                 0.217084   \n",
              "\n",
              "  Can material withstand  \n",
              "0                    Yes  \n",
              "1                    Yes  \n",
              "2                    Yes  \n",
              "3                    Yes  \n",
              "4                    Yes  \n",
              "5                    Yes  \n",
              "6                    Yes  \n",
              "7                    Yes  \n",
              "8                    Yes  \n",
              "9                    Yes  "
            ],
            "text/html": [
              "\n",
              "  <div id=\"df-76118d6c-408a-4531-bd2c-ca663ef3bd87\">\n",
              "    <div class=\"colab-df-container\">\n",
              "      <div>\n",
              "<style scoped>\n",
              "    .dataframe tbody tr th:only-of-type {\n",
              "        vertical-align: middle;\n",
              "    }\n",
              "\n",
              "    .dataframe tbody tr th {\n",
              "        vertical-align: top;\n",
              "    }\n",
              "\n",
              "    .dataframe thead th {\n",
              "        text-align: right;\n",
              "    }\n",
              "</style>\n",
              "<table border=\"1\" class=\"dataframe\">\n",
              "  <thead>\n",
              "    <tr style=\"text-align: right;\">\n",
              "      <th></th>\n",
              "      <th>Material Id</th>\n",
              "      <th>Elastic Modulus</th>\n",
              "      <th>Yield Strength (MPa)</th>\n",
              "      <th>Density</th>\n",
              "      <th>Price</th>\n",
              "      <th>Width</th>\n",
              "      <th>Height</th>\n",
              "      <th>Area</th>\n",
              "      <th>Modular Ratio</th>\n",
              "      <th>centroid</th>\n",
              "      <th>Centroidal Distance</th>\n",
              "      <th>MOI</th>\n",
              "      <th>Mass</th>\n",
              "      <th>Stress(Top) Mpa</th>\n",
              "      <th>Stress(bottom) Mpa</th>\n",
              "      <th>Calculated Yield Stress</th>\n",
              "      <th>Can material withstand</th>\n",
              "    </tr>\n",
              "  </thead>\n",
              "  <tbody>\n",
              "    <tr>\n",
              "      <th>0</th>\n",
              "      <td>1</td>\n",
              "      <td>27</td>\n",
              "      <td>5</td>\n",
              "      <td>500</td>\n",
              "      <td>50</td>\n",
              "      <td>20</td>\n",
              "      <td>0.04</td>\n",
              "      <td>0.8</td>\n",
              "      <td>0.600000</td>\n",
              "      <td>0.38</td>\n",
              "      <td>0.198333</td>\n",
              "      <td>0.018945</td>\n",
              "      <td>80.00</td>\n",
              "      <td>-0.156540</td>\n",
              "      <td>-0.127861</td>\n",
              "      <td>-0.156540</td>\n",
              "      <td>Yes</td>\n",
              "    </tr>\n",
              "    <tr>\n",
              "      <th>1</th>\n",
              "      <td>2</td>\n",
              "      <td>29</td>\n",
              "      <td>6</td>\n",
              "      <td>520</td>\n",
              "      <td>55</td>\n",
              "      <td>20</td>\n",
              "      <td>0.04</td>\n",
              "      <td>0.8</td>\n",
              "      <td>0.644444</td>\n",
              "      <td>0.34</td>\n",
              "      <td>0.158333</td>\n",
              "      <td>0.012993</td>\n",
              "      <td>83.20</td>\n",
              "      <td>-0.137332</td>\n",
              "      <td>-0.106528</td>\n",
              "      <td>-0.137332</td>\n",
              "      <td>Yes</td>\n",
              "    </tr>\n",
              "    <tr>\n",
              "      <th>2</th>\n",
              "      <td>3</td>\n",
              "      <td>31</td>\n",
              "      <td>6</td>\n",
              "      <td>550</td>\n",
              "      <td>60</td>\n",
              "      <td>20</td>\n",
              "      <td>0.04</td>\n",
              "      <td>0.8</td>\n",
              "      <td>0.688889</td>\n",
              "      <td>0.30</td>\n",
              "      <td>0.118333</td>\n",
              "      <td>0.007791</td>\n",
              "      <td>88.00</td>\n",
              "      <td>-0.113875</td>\n",
              "      <td>-0.080947</td>\n",
              "      <td>-0.113875</td>\n",
              "      <td>Yes</td>\n",
              "    </tr>\n",
              "    <tr>\n",
              "      <th>3</th>\n",
              "      <td>4</td>\n",
              "      <td>33</td>\n",
              "      <td>7</td>\n",
              "      <td>400</td>\n",
              "      <td>65</td>\n",
              "      <td>20</td>\n",
              "      <td>0.04</td>\n",
              "      <td>0.8</td>\n",
              "      <td>0.733333</td>\n",
              "      <td>0.26</td>\n",
              "      <td>0.078333</td>\n",
              "      <td>0.003678</td>\n",
              "      <td>64.00</td>\n",
              "      <td>-0.086170</td>\n",
              "      <td>-0.051118</td>\n",
              "      <td>-0.086170</td>\n",
              "      <td>Yes</td>\n",
              "    </tr>\n",
              "    <tr>\n",
              "      <th>4</th>\n",
              "      <td>5</td>\n",
              "      <td>35</td>\n",
              "      <td>7</td>\n",
              "      <td>650</td>\n",
              "      <td>70</td>\n",
              "      <td>20</td>\n",
              "      <td>0.04</td>\n",
              "      <td>0.8</td>\n",
              "      <td>0.777778</td>\n",
              "      <td>0.22</td>\n",
              "      <td>0.038333</td>\n",
              "      <td>0.000997</td>\n",
              "      <td>104.00</td>\n",
              "      <td>-0.054216</td>\n",
              "      <td>-0.017039</td>\n",
              "      <td>-0.054216</td>\n",
              "      <td>Yes</td>\n",
              "    </tr>\n",
              "    <tr>\n",
              "      <th>5</th>\n",
              "      <td>6</td>\n",
              "      <td>37</td>\n",
              "      <td>8</td>\n",
              "      <td>660</td>\n",
              "      <td>75</td>\n",
              "      <td>20</td>\n",
              "      <td>0.04</td>\n",
              "      <td>0.8</td>\n",
              "      <td>0.822222</td>\n",
              "      <td>0.18</td>\n",
              "      <td>-0.001667</td>\n",
              "      <td>0.000090</td>\n",
              "      <td>105.60</td>\n",
              "      <td>-0.018013</td>\n",
              "      <td>0.021288</td>\n",
              "      <td>0.021288</td>\n",
              "      <td>Yes</td>\n",
              "    </tr>\n",
              "    <tr>\n",
              "      <th>6</th>\n",
              "      <td>7</td>\n",
              "      <td>39</td>\n",
              "      <td>8</td>\n",
              "      <td>670</td>\n",
              "      <td>80</td>\n",
              "      <td>20</td>\n",
              "      <td>0.04</td>\n",
              "      <td>0.8</td>\n",
              "      <td>0.866667</td>\n",
              "      <td>0.14</td>\n",
              "      <td>-0.041667</td>\n",
              "      <td>0.001296</td>\n",
              "      <td>107.20</td>\n",
              "      <td>0.022439</td>\n",
              "      <td>0.063864</td>\n",
              "      <td>0.063864</td>\n",
              "      <td>Yes</td>\n",
              "    </tr>\n",
              "    <tr>\n",
              "      <th>7</th>\n",
              "      <td>8</td>\n",
              "      <td>41</td>\n",
              "      <td>9</td>\n",
              "      <td>680</td>\n",
              "      <td>85</td>\n",
              "      <td>20</td>\n",
              "      <td>0.04</td>\n",
              "      <td>0.8</td>\n",
              "      <td>0.911111</td>\n",
              "      <td>0.10</td>\n",
              "      <td>-0.081667</td>\n",
              "      <td>0.004958</td>\n",
              "      <td>108.80</td>\n",
              "      <td>0.067139</td>\n",
              "      <td>0.110689</td>\n",
              "      <td>0.110689</td>\n",
              "      <td>Yes</td>\n",
              "    </tr>\n",
              "    <tr>\n",
              "      <th>8</th>\n",
              "      <td>9</td>\n",
              "      <td>43</td>\n",
              "      <td>9</td>\n",
              "      <td>690</td>\n",
              "      <td>90</td>\n",
              "      <td>20</td>\n",
              "      <td>0.04</td>\n",
              "      <td>0.8</td>\n",
              "      <td>0.955556</td>\n",
              "      <td>0.06</td>\n",
              "      <td>-0.121667</td>\n",
              "      <td>0.011418</td>\n",
              "      <td>110.40</td>\n",
              "      <td>0.116088</td>\n",
              "      <td>0.161762</td>\n",
              "      <td>0.161762</td>\n",
              "      <td>Yes</td>\n",
              "    </tr>\n",
              "    <tr>\n",
              "      <th>9</th>\n",
              "      <td>10</td>\n",
              "      <td>45</td>\n",
              "      <td>10</td>\n",
              "      <td>686</td>\n",
              "      <td>95</td>\n",
              "      <td>20</td>\n",
              "      <td>0.04</td>\n",
              "      <td>0.8</td>\n",
              "      <td>1.000000</td>\n",
              "      <td>0.02</td>\n",
              "      <td>-0.161667</td>\n",
              "      <td>0.021016</td>\n",
              "      <td>109.76</td>\n",
              "      <td>0.169286</td>\n",
              "      <td>0.217084</td>\n",
              "      <td>0.217084</td>\n",
              "      <td>Yes</td>\n",
              "    </tr>\n",
              "  </tbody>\n",
              "</table>\n",
              "</div>\n",
              "      <button class=\"colab-df-convert\" onclick=\"convertToInteractive('df-76118d6c-408a-4531-bd2c-ca663ef3bd87')\"\n",
              "              title=\"Convert this dataframe to an interactive table.\"\n",
              "              style=\"display:none;\">\n",
              "        \n",
              "  <svg xmlns=\"http://www.w3.org/2000/svg\" height=\"24px\"viewBox=\"0 0 24 24\"\n",
              "       width=\"24px\">\n",
              "    <path d=\"M0 0h24v24H0V0z\" fill=\"none\"/>\n",
              "    <path d=\"M18.56 5.44l.94 2.06.94-2.06 2.06-.94-2.06-.94-.94-2.06-.94 2.06-2.06.94zm-11 1L8.5 8.5l.94-2.06 2.06-.94-2.06-.94L8.5 2.5l-.94 2.06-2.06.94zm10 10l.94 2.06.94-2.06 2.06-.94-2.06-.94-.94-2.06-.94 2.06-2.06.94z\"/><path d=\"M17.41 7.96l-1.37-1.37c-.4-.4-.92-.59-1.43-.59-.52 0-1.04.2-1.43.59L10.3 9.45l-7.72 7.72c-.78.78-.78 2.05 0 2.83L4 21.41c.39.39.9.59 1.41.59.51 0 1.02-.2 1.41-.59l7.78-7.78 2.81-2.81c.8-.78.8-2.07 0-2.86zM5.41 20L4 18.59l7.72-7.72 1.47 1.35L5.41 20z\"/>\n",
              "  </svg>\n",
              "      </button>\n",
              "      \n",
              "  <style>\n",
              "    .colab-df-container {\n",
              "      display:flex;\n",
              "      flex-wrap:wrap;\n",
              "      gap: 12px;\n",
              "    }\n",
              "\n",
              "    .colab-df-convert {\n",
              "      background-color: #E8F0FE;\n",
              "      border: none;\n",
              "      border-radius: 50%;\n",
              "      cursor: pointer;\n",
              "      display: none;\n",
              "      fill: #1967D2;\n",
              "      height: 32px;\n",
              "      padding: 0 0 0 0;\n",
              "      width: 32px;\n",
              "    }\n",
              "\n",
              "    .colab-df-convert:hover {\n",
              "      background-color: #E2EBFA;\n",
              "      box-shadow: 0px 1px 2px rgba(60, 64, 67, 0.3), 0px 1px 3px 1px rgba(60, 64, 67, 0.15);\n",
              "      fill: #174EA6;\n",
              "    }\n",
              "\n",
              "    [theme=dark] .colab-df-convert {\n",
              "      background-color: #3B4455;\n",
              "      fill: #D2E3FC;\n",
              "    }\n",
              "\n",
              "    [theme=dark] .colab-df-convert:hover {\n",
              "      background-color: #434B5C;\n",
              "      box-shadow: 0px 1px 3px 1px rgba(0, 0, 0, 0.15);\n",
              "      filter: drop-shadow(0px 1px 2px rgba(0, 0, 0, 0.3));\n",
              "      fill: #FFFFFF;\n",
              "    }\n",
              "  </style>\n",
              "\n",
              "      <script>\n",
              "        const buttonEl =\n",
              "          document.querySelector('#df-76118d6c-408a-4531-bd2c-ca663ef3bd87 button.colab-df-convert');\n",
              "        buttonEl.style.display =\n",
              "          google.colab.kernel.accessAllowed ? 'block' : 'none';\n",
              "\n",
              "        async function convertToInteractive(key) {\n",
              "          const element = document.querySelector('#df-76118d6c-408a-4531-bd2c-ca663ef3bd87');\n",
              "          const dataTable =\n",
              "            await google.colab.kernel.invokeFunction('convertToInteractive',\n",
              "                                                     [key], {});\n",
              "          if (!dataTable) return;\n",
              "\n",
              "          const docLinkHtml = 'Like what you see? Visit the ' +\n",
              "            '<a target=\"_blank\" href=https://colab.research.google.com/notebooks/data_table.ipynb>data table notebook</a>'\n",
              "            + ' to learn more about interactive tables.';\n",
              "          element.innerHTML = '';\n",
              "          dataTable['output_type'] = 'display_data';\n",
              "          await google.colab.output.renderOutput(dataTable, element);\n",
              "          const docLink = document.createElement('div');\n",
              "          docLink.innerHTML = docLinkHtml;\n",
              "          element.appendChild(docLink);\n",
              "        }\n",
              "      </script>\n",
              "    </div>\n",
              "  </div>\n",
              "  "
            ]
          },
          "metadata": {},
          "execution_count": 249
        }
      ]
    },
    {
      "cell_type": "code",
      "source": [
        "# --------------------------------------Cost of the material---------------------------------------\n",
        "\n",
        "total_cost = 0\n",
        "\n",
        "for x in df_new[\"Price\"].values :\n",
        "  total_cost = total_cost + x\n",
        "\n",
        "print(total_cost)"
      ],
      "metadata": {
        "colab": {
          "base_uri": "https://localhost:8080/"
        },
        "id": "U-es-uuIsn9Q",
        "outputId": "5eb2c25d-fa5f-426e-c342-7cf0cd7a0c78"
      },
      "execution_count": null,
      "outputs": [
        {
          "output_type": "stream",
          "name": "stdout",
          "text": [
            "725\n"
          ]
        }
      ]
    }
  ]
}